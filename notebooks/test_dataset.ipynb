{
 "cells": [
  {
   "attachments": {},
   "cell_type": "markdown",
   "metadata": {},
   "source": [
    "# Starting notebook\n",
    "\n",
    "Let us visualize the data and produce low pass filtering"
   ]
  },
  {
   "cell_type": "code",
   "execution_count": null,
   "metadata": {},
   "outputs": [],
   "source": [
    "# Some useful modules for notebooks\n",
    "%load_ext autoreload\n",
    "%autoreload 2\n",
    "%matplotlib inline"
   ]
  },
  {
   "cell_type": "code",
   "execution_count": null,
   "metadata": {},
   "outputs": [],
   "source": [
    "from pathlib import Path\n",
    "import matplotlib.pyplot as plt\n",
    "from tqdne.conf import DATASETDIR\n",
    "import h5py\n",
    "from scipy import signal\n",
    "import numpy as np\n",
    "from tqdm import tqdm\n",
    "datapath = DATASETDIR / Path(\"wforms_GAN_input_v20220805.h5\")\n"
   ]
  },
  {
   "cell_type": "code",
   "execution_count": null,
   "metadata": {},
   "outputs": [],
   "source": [
    "from tqdne.dataset import compute_mean_std_features, extract_sample_from_h5file, features_keys, build_sample\n",
    "\n",
    "means, stds = compute_mean_std_features(datapath, features_keys)"
   ]
  },
  {
   "cell_type": "code",
   "execution_count": null,
   "metadata": {},
   "outputs": [],
   "source": [
    "# Opent the hdf5 file\n",
    "\n",
    "sample_id = 0\n",
    "with h5py.File(datapath, \"r\") as f:\n",
    "    for key in f.keys():\n",
    "        print(f\"Key: {key} -- {f[key].shape}\")\n",
    "\n",
    "    time = f[\"time_vector\"][:]\n",
    "    waveform, features = extract_sample_from_h5file(f, sample_id)\n",
    "plt.plot(time, waveform.T)\n",
    "plt.xlabel(\"Time [s]\")\n",
    "features, stds, means"
   ]
  },
  {
   "cell_type": "code",
   "execution_count": null,
   "metadata": {},
   "outputs": [],
   "source": [
    "fs = 100"
   ]
  },
  {
   "cell_type": "code",
   "execution_count": null,
   "metadata": {},
   "outputs": [],
   "source": [
    "# plot the frequency response\n",
    "b, a = signal.butter(N=2, Wn=[1., 15.], btype='bp', analog=True)\n",
    "w, h = signal.freqs(b, a)\n",
    "plt.semilogx(w, 20 * np.log10(abs(h)))\n",
    "plt.title('Butterworth filter frequency response')\n",
    "plt.xlabel('Frequency [radians / second]')\n",
    "plt.ylabel('Amplitude [dB]')\n",
    "plt.margins(0, 0.1)\n",
    "plt.grid(which='both', axis='both')\n",
    "plt.axvline(100, color='green') # cutoff frequency\n",
    "plt.show()"
   ]
  },
  {
   "cell_type": "code",
   "execution_count": null,
   "metadata": {},
   "outputs": [],
   "source": [
    "\n",
    "sos = signal.butter(2, 1, 'lp', fs=fs, output='sos')\n",
    "for i, channel in enumerate(waveform):\n",
    "    datafilt = signal.sosfilt(sos, channel)\n",
    "    plt.figure(figsize=(10, 10))\n",
    "    plt.subplot(len(waveform), 1, 1+i)\n",
    "    plt.plot(time, datafilt,  'r', alpha=1,)\n",
    "    plt.plot(time, channel , 'b',  alpha=0.5,)\n",
    "    # plt.xlim(8, 12)\n"
   ]
  },
  {
   "cell_type": "code",
   "execution_count": null,
   "metadata": {},
   "outputs": [],
   "source": [
    "# test filter on sinusoids\n",
    "# t = np.linspace(-5, 50, fs*55, False)  # 55 second\n",
    "# sig = np.sin(2*np.pi*0.25*t) + np.sin(2*np.pi*5*t)\n",
    "# fig, (ax1, ax2) = plt.subplots(2, 1, sharex=True)\n",
    "# ax1.plot(t, sig)\n",
    "# ax1.set_title('0.25 Hz and 5 Hz sinusoids')\n",
    "# ax1.axis([-5, 50, -2, 2])\n",
    "\n",
    "# sos = signal.butter(10, 1, 'lp', fs=fs, output='sos')\n",
    "# filtered = signal.sosfilt(sos, sig)\n",
    "# ax2.plot(t, filtered)\n",
    "# ax2.set_title('After 15 Hz high-pass filter')\n",
    "# ax1.axis([-5, 50, -2, 2])\n",
    "# ax2.set_xlabel('Time [seconds]')\n",
    "# plt.tight_layout()\n",
    "# plt.show()"
   ]
  },
  {
   "cell_type": "code",
   "execution_count": null,
   "metadata": {},
   "outputs": [],
   "source": [
    "\n",
    "sos = signal.butter(2, 1, 'lp', fs=fs, output='sos')\n",
    "\n",
    "sample_id = 0\n",
    "with h5py.File(datapath, \"r\") as f:\n",
    "    time = f[\"time_vector\"][:]\n",
    "    waveform, features = extract_sample_from_h5file(f, sample_id)\n",
    "    features, datafilt, waveform, scale = build_sample(waveform, features, means, stds, sos)\n",
    "\n",
    "n_channels = waveform.shape[0]\n",
    "plt.figure(figsize=(10, 10))\n",
    "for i, (filt, orig) in enumerate(zip(datafilt, waveform)):\n",
    "    plt.subplot(n_channels, 1, 1+i)\n",
    "    plt.plot(time, filt,  'r', alpha=1,)\n",
    "    plt.plot(time, orig , 'b',  alpha=0.5,)\n",
    "    # plt.xlim(8, 12\n",
    "features"
   ]
  },
  {
   "cell_type": "code",
   "execution_count": null,
   "metadata": {},
   "outputs": [],
   "source": []
  }
 ],
 "metadata": {
  "kernelspec": {
   "display_name": "espm",
   "language": "python",
   "name": "python3"
  },
  "language_info": {
   "codemirror_mode": {
    "name": "ipython",
    "version": 3
   },
   "file_extension": ".py",
   "mimetype": "text/x-python",
   "name": "python",
   "nbconvert_exporter": "python",
   "pygments_lexer": "ipython3",
   "version": "3.11.3"
  },
  "vscode": {
   "interpreter": {
    "hash": "8d9f0750808bbb89d6238996d547b1a0ab25cae94b245e8c4572708d26b443fd"
   }
  }
 },
 "nbformat": 4,
 "nbformat_minor": 4
}
